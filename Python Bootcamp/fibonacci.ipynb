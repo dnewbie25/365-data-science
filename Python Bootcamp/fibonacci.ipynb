{
 "cells": [
  {
   "cell_type": "code",
   "execution_count": 18,
   "metadata": {},
   "outputs": [
    {
     "name": "stdout",
     "output_type": "stream",
     "text": [
      "832040\n"
     ]
    }
   ],
   "source": [
    "def fibonacci(position):\n",
    "  if position < 1:\n",
    "    return \"Doesn't work for numbers smaller than 1\"\n",
    "  elif 1 <= position <= 2:\n",
    "    return 1\n",
    "  return fibonacci(position-1) + fibonacci(position-2)\n",
    "\n",
    "print(fibonacci(30))"
   ]
  }
 ],
 "metadata": {
  "kernelspec": {
   "display_name": "base",
   "language": "python",
   "name": "python3"
  },
  "language_info": {
   "codemirror_mode": {
    "name": "ipython",
    "version": 3
   },
   "file_extension": ".py",
   "mimetype": "text/x-python",
   "name": "python",
   "nbconvert_exporter": "python",
   "pygments_lexer": "ipython3",
   "version": "3.11.4"
  }
 },
 "nbformat": 4,
 "nbformat_minor": 2
}

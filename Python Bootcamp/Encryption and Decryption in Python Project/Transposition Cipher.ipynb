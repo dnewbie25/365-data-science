{
 "cells": [
  {
   "cell_type": "markdown",
   "id": "fc1b63ae",
   "metadata": {},
   "source": [
    "# Create the TranspositionCipher class"
   ]
  },
  {
   "cell_type": "code",
   "execution_count": 114,
   "id": "24484932",
   "metadata": {},
   "outputs": [],
   "source": [
    "class TranspositionCipher(object): \n",
    "        \n",
    "    def __init__(self, key):\n",
    "        self.key = key\n",
    "        self.matrix = []\n",
    "        \n",
    "    def encrypt_message(self, message):\n",
    "\n",
    "        # creates the matrix with the corresponding subarrays\n",
    "        total_characters = len(message)\n",
    "        if total_characters%self.key == 0:\n",
    "            self.matrix = [[] for i in range(0,total_characters//self.key)]\n",
    "        else:\n",
    "            self.matrix = [[] for i in range(0,total_characters//self.key+1)]\n",
    "        \n",
    "        # populates the matrix\n",
    "        index = 0\n",
    "        char = 0\n",
    "        while char < len(message):\n",
    "            while len(self.matrix[index]) < self.key and char < len(message):\n",
    "                self.matrix[index].append(message[char])\n",
    "                char+=1\n",
    "            index+=1\n",
    "        if len(self.matrix[-1]) < len(self.matrix[0]):\n",
    "            for i in range(0,len(self.matrix[0])-len(self.matrix[-1])):\n",
    "                self.matrix[-1].append('')\n",
    "        print(self.matrix)\n",
    "        # return the encrypted message\n",
    "        transposed_matrix = map(list, zip(*self.matrix))\n",
    "        #print(transposed_matrix)\n",
    "        # for row in transposed_matrix:\n",
    "        #     print(row)\n",
    "        #return (''.join(transposed_matrix)).strip()\n",
    "        # return self.matrix\n",
    "        # print(self.matrix)\n",
    "        return ''.join(flatten(transposed_matrix))\n",
    "    \n",
    "    def decrypt_message(self, message):\n",
    "        pass\n",
    "\n",
    "def flatten(lst):\n",
    "    return [item for sublist in lst for item in (flatten(sublist) if isinstance(sublist, list) else [sublist])]"
   ]
  },
  {
   "cell_type": "markdown",
   "id": "addc9042",
   "metadata": {},
   "source": [
    "# Test the code by encrypting and decrypting a message"
   ]
  },
  {
   "cell_type": "code",
   "execution_count": 115,
   "id": "8c8f8aa3",
   "metadata": {},
   "outputs": [
    {
     "name": "stdout",
     "output_type": "stream",
     "text": [
      "[['L', 'e', 'a', 'r', 'n', 'i'], ['n', 'g', ' ', 'P', 'y', 't'], ['h', 'o', 'n', ' ', 'i', 's'], [' ', 'f', 'u', 'n', '', '']]\n"
     ]
    },
    {
     "data": {
      "text/plain": [
       "'Lnh egofa nurP nnyiits'"
      ]
     },
     "execution_count": 115,
     "metadata": {},
     "output_type": "execute_result"
    }
   ],
   "source": [
    "test1 = TranspositionCipher(6)\n",
    "test1.encrypt_message('Learning Python is fun')"
   ]
  },
  {
   "cell_type": "markdown",
   "id": "2c4e8503",
   "metadata": {},
   "source": [
    "# Hack the transposition cipher (optional)"
   ]
  },
  {
   "cell_type": "code",
   "execution_count": null,
   "id": "54134ab4",
   "metadata": {},
   "outputs": [],
   "source": [
    "def hack_cipher(message_enc):\n",
    "    pass"
   ]
  }
 ],
 "metadata": {
  "kernelspec": {
   "display_name": "Python 3 (ipykernel)",
   "language": "python",
   "name": "python3"
  },
  "language_info": {
   "codemirror_mode": {
    "name": "ipython",
    "version": 3
   },
   "file_extension": ".py",
   "mimetype": "text/x-python",
   "name": "python",
   "nbconvert_exporter": "python",
   "pygments_lexer": "ipython3",
   "version": "3.11.4"
  }
 },
 "nbformat": 4,
 "nbformat_minor": 5
}

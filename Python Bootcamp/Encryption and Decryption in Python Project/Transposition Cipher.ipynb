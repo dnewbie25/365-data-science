{
 "cells": [
  {
   "cell_type": "markdown",
   "id": "fc1b63ae",
   "metadata": {},
   "source": [
    "# Create the TranspositionCipher class"
   ]
  },
  {
   "cell_type": "code",
   "execution_count": 2,
   "id": "24484932",
   "metadata": {},
   "outputs": [],
   "source": [
    "from math import ceil\n",
    "class TranspositionCipher(object): \n",
    "        \n",
    "    def __init__(self, key):\n",
    "        self.key = key\n",
    "        self.matrix = []\n",
    "        \n",
    "    def encrypt_message(self, message):\n",
    "\n",
    "        # creates the matrix with the corresponding subarrays\n",
    "        total_characters = len(message)\n",
    "        self.matrix = [[] for i in range(0,ceil(total_characters/self.key))]\n",
    "        \n",
    "        # populates the matrix\n",
    "        index = 0\n",
    "        char = 0\n",
    "        while char < len(message):\n",
    "            while len(self.matrix[index]) < self.key and char < len(message):\n",
    "                self.matrix[index].append(message[char])\n",
    "                char+=1\n",
    "            index+=1\n",
    "        if len(self.matrix[-1]) < len(self.matrix[0]):\n",
    "            for i in range(0,len(self.matrix[0])-len(self.matrix[-1])):\n",
    "                self.matrix[-1].append('')\n",
    "        \n",
    "        # return the encrypted message\n",
    "        transposed_matrix = map(list, zip(*self.matrix))\n",
    "        return ''.join(flatten(transposed_matrix))\n",
    "    \n",
    "    def decrypt_message(self, message):\n",
    "        # se debe hacer una matriz pero invertida, ahora el numero de columnas sera el de filas y el de filas sera el de columnas\n",
    "        total_characters = len(message)\n",
    "        self.matrix = [[] for i in range(0,self.key)]\n",
    "        num_columns = ceil(total_characters/self.key)\n",
    "        num_rows = len(self.matrix)\n",
    "\n",
    "        #put EMPTY on the cells of the last column the matrix\n",
    "        total_empty = num_columns*num_rows-total_characters\n",
    "        row_modify = total_empty\n",
    "        for row in range(len(self.matrix)-row_modify,len(self.matrix)):\n",
    "            self.matrix[row].append('EMPTY')\n",
    "\n",
    "        #populate the matrix\n",
    "        index = 0\n",
    "        char = 0\n",
    "        while char < len(message):\n",
    "            while len(self.matrix[index]) < num_columns and char < len(message):\n",
    "                self.matrix[index].append(message[char])\n",
    "                char+=1\n",
    "            index+=1\n",
    "        if len(self.matrix[-1]) < len(self.matrix[0]):\n",
    "            for i in range(0,len(self.matrix[0])-len(self.matrix[-1])):\n",
    "                self.matrix[-1].append('')\n",
    "        for row in range(0,len(self.matrix)):\n",
    "            if 'EMPTY' in self.matrix[row]:\n",
    "                self.matrix[row].pop(0)\n",
    "                self.matrix[row].append('')\n",
    "        \n",
    "        # transpose the matrix\n",
    "        transposed_matrix = map(list, zip(*self.matrix))\n",
    "        return ''.join(flatten(transposed_matrix))\n",
    "\n",
    "def flatten(lst):\n",
    "    return [item for sublist in lst for item in (flatten(sublist) if isinstance(sublist, list) else [sublist])]"
   ]
  },
  {
   "cell_type": "markdown",
   "id": "addc9042",
   "metadata": {},
   "source": [
    "# Test the code by encrypting and decrypting a message"
   ]
  },
  {
   "cell_type": "code",
   "execution_count": 3,
   "id": "8c8f8aa3",
   "metadata": {},
   "outputs": [
    {
     "name": "stdout",
     "output_type": "stream",
     "text": [
      "The key is 1 , message: asnem trhivt  taotosatihftorru .v naeu sera eogtwrm, nly f . no yelea lyeraed a biedena yrheka  driesaheriy sna ba \n",
      "The key is 2 , message: a s.n enmo  tyrehlievat  l ytearoateods aat ibhifetdoernrau  y.rvh enkaae u  dsreireas aehoegrtiwyr ms,n an lbya  f\n",
      "The key is 3 , message: as seanr eabm i eetodrgehtniwavr tmy ,r  htnealkoyat  of s da.rt iinehosf atyhoeerlrreiuay   .lsvyn eanr aabeeaud  \n",
      "The key is 4 , message: au  s .yn. revnhm oe n ktayaree hul i edvsarte i rle ayst eaaerhooaetgerotdisw yara tm si,bnh iafne tldboyear n rfa\n",
      "The key is 5 , message: ahg ksftlantwy eore mrmrd r,artu eir ndeh.l sivyaav   htnfbe a ir e.eitu dya ne osonste anory asaey a lrbteehaioae \n",
      "The key is 6 , message: aas  dste.arnir  iehanbemf ois te eatooydhrrgeeehrtlnriuweaiv ra yt.m y  v,lrs   yhntnneeaaalrk oeyaabtu e ao fd  s\n",
      "The key is 7 , message: atn,edesoa aesnsen naeaullahmt yy e is eyrthefrrirfr ahyhta.ee io  dksvren antrooa a ug      tybdbt.weiraavrlei o m\n",
      "The key is 8 , message: aa o.r aso.g ayhntvtnereeo wodhrmsnr  ei aamyakytte,e a riu lb shh nei nifslaedavtey dr tor leib rafynea r  eas tue\n",
      "The key is 9 , message: a os eaeestrenl krnarrlebaieouayai ymt    e   o.eflddstsvo yernra g.eniahtnt rae iiawna sbvheroeyaatfum drh  t ,y h\n",
      "The key is 10 , message: a few years turned into more years, and more years turned into all years. years have a habit of behaving like that.\n",
      "The key is 11 , message: ati eyeen is hno ldadyn fagfe  r ettet aayismaouw.  ren or r lbhsattrsmnyiea roue,oeekhbhs r  rdaeaia.anyae r vtv l\n",
      "The key is 12 , message: ava em l yrystt.r,nybri n iva oeihese h  n reesnmtfnelyadkaa ataoyeeeah tooeg ldn ebrtrutfe a rahor w aa di isusr. \n"
     ]
    }
   ],
   "source": [
    "test1 = TranspositionCipher(6)\n",
    "test1.encrypt_message('Learning Python is fun')\n",
    "\n",
    "test2 = TranspositionCipher(3)\n",
    "test2.decrypt_message('Lrphenyoa tn')\n",
    "\n",
    "# test3 = TranspositionCipher(6)\n",
    "# test3.decrypt_message('Lnh egofa nurP nnyiits')\n",
    "\n",
    "test4 = TranspositionCipher(3)\n",
    "test4.encrypt_message('Learn python')\n",
    "\n",
    "test5 = TranspositionCipher(5)\n",
    "test5.decrypt_message('pe\\nlwy crt h iarmpeo akohw hncosrmr\\nt veo\\nigkb ostot\\neirbt .l\\nb hfap rtytb')\n",
    "\n",
    "test6 = TranspositionCipher(10)\n",
    "test6.decrypt_message('''icilehd  oy ganoasitasiv  sqcolhldultd'ltdetoouiuo w siiosiionhfmio uyap\\nfcc fcc e etusdoyrsreisreit itesa useuaxouaxohsth \\nye' cpgpupgpuoo iai nlsoeiiseiisuuintfiolocrlarla\\ngnsgr tu uicil''')\n",
    "\n",
    "test7 = TranspositionCipher(7)\n",
    "test7.encrypt_message('''I confess at these words a shudder passed\n",
    "through me. There was a thrill in the doctor’s voice\n",
    "which showed that he was himself deeply moved\n",
    "by that which he told us. Holmes leaned forward\n",
    "in his excitement and his eyes had the hard, dry\n",
    "glitter which shot from them when he was keenly\n",
    "interested.''')\n",
    "\n",
    "test8 = TranspositionCipher(8)\n",
    "test8.decrypt_message('ptatptabod hsdoh tymeiy emyit  rtsa ssseatssiro.i mnotecef cap  ali  aintaunfsma s  tnd.')\n",
    "\n",
    "for i in range(1,13):\n",
    "  test9 = TranspositionCipher(i)\n",
    "  print(f'''The key is {i} , message: {test9.decrypt_message(\"asnem trhivt  taotosatihftorru .v naeu sera eogtwrm, nly f . no yelea lyeraed a biedena yrheka  driesaheriy sna ba \")}''')\n"
   ]
  },
  {
   "cell_type": "markdown",
   "id": "2c4e8503",
   "metadata": {},
   "source": [
    "# Hack the transposition cipher (optional)"
   ]
  },
  {
   "cell_type": "code",
   "execution_count": null,
   "id": "54134ab4",
   "metadata": {},
   "outputs": [],
   "source": [
    "def hack_cipher(message_enc):\n",
    "    pass"
   ]
  }
 ],
 "metadata": {
  "kernelspec": {
   "display_name": "Python 3 (ipykernel)",
   "language": "python",
   "name": "python3"
  },
  "language_info": {
   "codemirror_mode": {
    "name": "ipython",
    "version": 3
   },
   "file_extension": ".py",
   "mimetype": "text/x-python",
   "name": "python",
   "nbconvert_exporter": "python",
   "pygments_lexer": "ipython3",
   "version": "3.11.5"
  }
 },
 "nbformat": 4,
 "nbformat_minor": 5
}

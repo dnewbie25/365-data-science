{
 "cells": [
  {
   "cell_type": "code",
   "execution_count": null,
   "metadata": {},
   "outputs": [],
   "source": [
    "import numpy as np"
   ]
  },
  {
   "cell_type": "markdown",
   "metadata": {},
   "source": [
    "## Question 31"
   ]
  },
  {
   "cell_type": "markdown",
   "metadata": {},
   "source": [
    "### Load the dataset"
   ]
  },
  {
   "cell_type": "code",
   "execution_count": null,
   "metadata": {},
   "outputs": [],
   "source": [
    "my_dataset = "
   ]
  },
  {
   "cell_type": "markdown",
   "metadata": {},
   "source": [
    "### Find the mean of each column"
   ]
  },
  {
   "cell_type": "code",
   "execution_count": null,
   "metadata": {},
   "outputs": [],
   "source": [
    "mean_real_estate = ''' Eneter your code here. '''"
   ]
  },
  {
   "cell_type": "markdown",
   "metadata": {},
   "source": [
    "### Separate the text columns from the numeric columns"
   ]
  },
  {
   "cell_type": "code",
   "execution_count": null,
   "metadata": {},
   "outputs": [],
   "source": [
    "numeric_cols_real_estate = ''' Enter your code here. '''\n",
    "text_cols_real_estate = ''' Enter your code here. '''"
   ]
  },
  {
   "cell_type": "markdown",
   "metadata": {},
   "source": [
    "### Load again the 'Real_estate(cleaned).csv' into 2 new variables. Separate the columns from the database according to the indices stored in the variables above. Skip the header. Store the text data as dtype = str."
   ]
  },
  {
   "cell_type": "code",
   "execution_count": null,
   "metadata": {},
   "outputs": [],
   "source": [
    "numeric_real_estate = ''' Eneter your code here. '''\n",
    "text_real_estate = ''' Eneter your code here. '''"
   ]
  },
  {
   "cell_type": "markdown",
   "metadata": {},
   "source": [
    "### Choose the method that would best combine the 'date_sale' and 'price ($)' columns in a new array called date_price"
   ]
  },
  {
   "cell_type": "code",
   "execution_count": null,
   "metadata": {},
   "outputs": [],
   "source": [
    "date_price = np.''' Eneter your code here. '''((text_real_estate[:,2], numeric_real_estate[:,2]), axis=-1)"
   ]
  },
  {
   "cell_type": "markdown",
   "metadata": {},
   "source": [
    "### Find the income for the dates of interest:"
   ]
  },
  {
   "cell_type": "code",
   "execution_count": null,
   "metadata": {},
   "outputs": [],
   "source": [
    "income = 0\n",
    "''' Enter your code here. '''"
   ]
  },
  {
   "cell_type": "markdown",
   "metadata": {},
   "source": [
    "### Print the income variable"
   ]
  },
  {
   "cell_type": "code",
   "execution_count": null,
   "metadata": {},
   "outputs": [],
   "source": [
    "print(income)"
   ]
  },
  {
   "cell_type": "markdown",
   "metadata": {},
   "source": [
    "## Question 32"
   ]
  },
  {
   "cell_type": "code",
   "execution_count": null,
   "metadata": {},
   "outputs": [],
   "source": [
    "new_dates = np.______(text_real_estate[:,2])\n",
    "\n",
    "for i in range(text_real_estate[:,2].shape[0]):\n",
    "    new_dates[i] = np.where(\n",
    "        text_real_estate[:,2][i] != ______,\n",
    "        'Jan-' + text_real_estate[:,2][i][ ______ : len(text_real_estate[:,2][i]) ],\n",
    "        ______\n",
    "    )"
   ]
  },
  {
   "cell_type": "code",
   "execution_count": null,
   "metadata": {},
   "outputs": [],
   "source": [
    "print(new_dates)"
   ]
  },
  {
   "cell_type": "markdown",
   "metadata": {},
   "source": [
    "## Question 33"
   ]
  },
  {
   "cell_type": "markdown",
   "metadata": {},
   "source": [
    "### Define the arrays"
   ]
  },
  {
   "cell_type": "code",
   "execution_count": null,
   "metadata": {},
   "outputs": [],
   "source": [
    "western_states = np.array(['Arizona', 'California', 'Colorado', 'Nevada', 'Oregon', 'Utah', 'Wyoming'])\n",
    "midwestern_states = np.array(['Kansas'])\n",
    "southeastern_states = np.array(['Virginia'])"
   ]
  },
  {
   "cell_type": "markdown",
   "metadata": {},
   "source": [
    "### Substitute each state with the label of the group it belongs to"
   ]
  },
  {
   "cell_type": "code",
   "execution_count": null,
   "metadata": {},
   "outputs": [],
   "source": [
    "text_real_estate[:,13] = np.''' Eneter your code here. '''(np.''' Eneter your code here. '''(text_real_estate[:,13], western_states), 0, text_real_estate[:,13])\n",
    "text_real_estate[:,13] = np.''' Eneter your code here. '''(np.''' Eneter your code here. '''(text_real_estate[:,13], midwestern_states), 1, text_real_estate[:,13])\n",
    "text_real_estate[:,13] = np.''' Eneter your code here. '''(np.''' Eneter your code here. '''(text_real_estate[:,13], southeastern_states), 2, text_real_estate[:,13])\n",
    "text_real_estate[:,13] = np.''' Eneter your code here. '''(text_real_estate[:,13] == '', 'nan', text_real_estate[:,13])"
   ]
  },
  {
   "cell_type": "markdown",
   "metadata": {},
   "source": [
    "### Find the number of times the values '0' and '2' appear in the transformed column"
   ]
  },
  {
   "cell_type": "code",
   "execution_count": null,
   "metadata": {},
   "outputs": [],
   "source": [
    "np.unique(text_real_estate[:,13], ''' Enter your code here. ''')"
   ]
  },
  {
   "cell_type": "markdown",
   "metadata": {},
   "source": [
    "## Question 34"
   ]
  },
  {
   "cell_type": "markdown",
   "metadata": {},
   "source": [
    "### Load the dataset"
   ]
  },
  {
   "cell_type": "code",
   "execution_count": null,
   "metadata": {},
   "outputs": [],
   "source": [
    "my_dataset2 = ''' Enter your code here. '''"
   ]
  },
  {
   "cell_type": "markdown",
   "metadata": {},
   "source": [
    "### Find the mean of each column"
   ]
  },
  {
   "cell_type": "code",
   "execution_count": null,
   "metadata": {},
   "outputs": [],
   "source": [
    "mean_hr = ''' Eneter your code here. '''"
   ]
  },
  {
   "cell_type": "markdown",
   "metadata": {},
   "source": [
    "### Separate the text columns from the numeric columns"
   ]
  },
  {
   "cell_type": "code",
   "execution_count": null,
   "metadata": {},
   "outputs": [],
   "source": [
    "numeric_cols_hr = ''' Enter your code here. '''\n",
    "text_cols_hr = ''' Enter your code here. '''"
   ]
  },
  {
   "cell_type": "markdown",
   "metadata": {},
   "source": [
    "### Load again the 'HR_Analytics.csv' into 2 new variables. Separate the columns from the database according to the indices stored in the variables above. Skip the header. Store the text data as dtype = str."
   ]
  },
  {
   "cell_type": "code",
   "execution_count": null,
   "metadata": {},
   "outputs": [],
   "source": [
    "numeric_hr = ''' Eneter your code here. '''\n",
    "text_hr = ''' Eneter your code here. '''"
   ]
  },
  {
   "cell_type": "markdown",
   "metadata": {},
   "source": [
    "### Stack the education_level and training_hours columns in an array called education_training."
   ]
  },
  {
   "cell_type": "code",
   "execution_count": null,
   "metadata": {},
   "outputs": [],
   "source": [
    "education_training = np.stack((text_hr[:,4], numeric_hr[:,-1]), axis=-1)\n",
    "education_training[:,0] = np.where(\n",
    "    education_training[:,0] == 'Masters' & education_training[:,0] == 'PhD',\n",
    "    2,\n",
    "    education_training[:,0]\n",
    ")"
   ]
  },
  {
   "cell_type": "markdown",
   "metadata": {},
   "source": [
    "## Question 35"
   ]
  },
  {
   "cell_type": "markdown",
   "metadata": {},
   "source": [
    "### Create a histogram"
   ]
  },
  {
   "cell_type": "code",
   "execution_count": null,
   "metadata": {},
   "outputs": [],
   "source": [
    "np.histogram(''' Enter your code here. ''')"
   ]
  },
  {
   "cell_type": "markdown",
   "metadata": {},
   "source": [
    "### Display the percentiles"
   ]
  },
  {
   "cell_type": "code",
   "execution_count": null,
   "metadata": {},
   "outputs": [],
   "source": [
    "''' Enter your code here. '''"
   ]
  },
  {
   "cell_type": "markdown",
   "metadata": {},
   "source": [
    "## Question 36"
   ]
  },
  {
   "cell_type": "markdown",
   "metadata": {},
   "source": [
    "### Load again the 'Real_estate(cleaned).csv'. Import the company_size column. Skip the header. Store the text data as dtype = str."
   ]
  },
  {
   "cell_type": "code",
   "execution_count": null,
   "metadata": {},
   "outputs": [],
   "source": [
    "company_size = ''' Eneter your code here. '''"
   ]
  },
  {
   "cell_type": "code",
   "execution_count": null,
   "metadata": {},
   "outputs": [],
   "source": [
    "np.unique(company_size)"
   ]
  },
  {
   "cell_type": "code",
   "execution_count": null,
   "metadata": {},
   "outputs": [],
   "source": [
    "company_size=np.where(''' Enter your code here. ''')\n",
    "company_size=np.where(''' Enter your code here. ''')\n",
    "company_size=np.where(''' Enter your code here. ''')\n",
    "company_size=np.where(''' Enter your code here. ''')\n",
    "company_size=np.where(''' Enter your code here. ''')"
   ]
  },
  {
   "cell_type": "markdown",
   "metadata": {},
   "source": [
    "### Choose the method that would best combine the 'education_level' and 'size_company' columns in a new array called date_price"
   ]
  },
  {
   "cell_type": "code",
   "execution_count": null,
   "metadata": {},
   "outputs": [],
   "source": [
    "education_size=np.''' Eneter your code here. '''((text_hr[:,4], company_size),axis=-1)"
   ]
  },
  {
   "cell_type": "markdown",
   "metadata": {},
   "source": [
    "### Find the respective number of employees"
   ]
  },
  {
   "cell_type": "code",
   "execution_count": null,
   "metadata": {},
   "outputs": [],
   "source": [
    "print('Number of employees with PhD degree working in companies with a number of employees larger than 5000:')\n",
    "print(''' Enter your code here. ''')\n",
    "\n",
    "print('Number of employees with Master degree working in companies with a number of employees larger than 5000:')\n",
    "print(''' Enter your code here. ''')"
   ]
  }
 ],
 "metadata": {
  "kernelspec": {
   "display_name": "Python 3",
   "language": "python",
   "name": "python3"
  },
  "language_info": {
   "codemirror_mode": {
    "name": "ipython",
    "version": 3
   },
   "file_extension": ".py",
   "mimetype": "text/x-python",
   "name": "python",
   "nbconvert_exporter": "python",
   "pygments_lexer": "ipython3",
   "version": "3.7.3"
  }
 },
 "nbformat": 4,
 "nbformat_minor": 5
}

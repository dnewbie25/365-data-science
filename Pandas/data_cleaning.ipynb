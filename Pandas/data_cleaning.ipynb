{
 "cells": [
  {
   "cell_type": "code",
   "execution_count": 2,
   "metadata": {},
   "outputs": [
    {
     "data": {
      "text/html": [
       "<div>\n",
       "<style scoped>\n",
       "    .dataframe tbody tr th:only-of-type {\n",
       "        vertical-align: middle;\n",
       "    }\n",
       "\n",
       "    .dataframe tbody tr th {\n",
       "        vertical-align: top;\n",
       "    }\n",
       "\n",
       "    .dataframe thead th {\n",
       "        text-align: right;\n",
       "    }\n",
       "</style>\n",
       "<table border=\"1\" class=\"dataframe\">\n",
       "  <thead>\n",
       "    <tr style=\"text-align: right;\">\n",
       "      <th></th>\n",
       "      <th>Location</th>\n",
       "    </tr>\n",
       "  </thead>\n",
       "  <tbody>\n",
       "    <tr>\n",
       "      <th>0</th>\n",
       "      <td>Location 3</td>\n",
       "    </tr>\n",
       "    <tr>\n",
       "      <th>1</th>\n",
       "      <td>Location 6</td>\n",
       "    </tr>\n",
       "    <tr>\n",
       "      <th>2</th>\n",
       "      <td>Location 8</td>\n",
       "    </tr>\n",
       "    <tr>\n",
       "      <th>3</th>\n",
       "      <td>Location 26</td>\n",
       "    </tr>\n",
       "    <tr>\n",
       "      <th>4</th>\n",
       "      <td>Location 34</td>\n",
       "    </tr>\n",
       "  </tbody>\n",
       "</table>\n",
       "</div>"
      ],
      "text/plain": [
       "      Location\n",
       "0   Location 3\n",
       "1   Location 6\n",
       "2   Location 8\n",
       "3  Location 26\n",
       "4  Location 34"
      ]
     },
     "execution_count": 2,
     "metadata": {},
     "output_type": "execute_result"
    }
   ],
   "source": [
    "import pandas as pd\n",
    "df = pd.read_csv(\"Location.csv\")\n",
    "df.head()"
   ]
  },
  {
   "cell_type": "code",
   "execution_count": 3,
   "metadata": {},
   "outputs": [
    {
     "name": "stdout",
     "output_type": "stream",
     "text": [
      "<class 'pandas.core.frame.DataFrame'>\n",
      "RangeIndex: 1043 entries, 0 to 1042\n",
      "Data columns (total 1 columns):\n",
      " #   Column    Non-Null Count  Dtype \n",
      "---  ------    --------------  ----- \n",
      " 0   Location  1043 non-null   object\n",
      "dtypes: object(1)\n",
      "memory usage: 8.3+ KB\n"
     ]
    }
   ],
   "source": [
    "df.info()"
   ]
  },
  {
   "cell_type": "code",
   "execution_count": 11,
   "metadata": {},
   "outputs": [
    {
     "data": {
      "text/plain": [
       "count            1043\n",
       "unique            296\n",
       "top       Location 25\n",
       "freq               31\n",
       "Name: Location, dtype: object"
      ]
     },
     "execution_count": 11,
     "metadata": {},
     "output_type": "execute_result"
    }
   ],
   "source": [
    "df[\"Location\"].describe()"
   ]
  },
  {
   "cell_type": "code",
   "execution_count": 5,
   "metadata": {},
   "outputs": [
    {
     "data": {
      "text/plain": [
       "pandas.core.frame.DataFrame"
      ]
     },
     "execution_count": 5,
     "metadata": {},
     "output_type": "execute_result"
    }
   ],
   "source": [
    "type(df)"
   ]
  },
  {
   "cell_type": "code",
   "execution_count": 42,
   "metadata": {},
   "outputs": [
    {
     "data": {
      "text/plain": [
       "Location    object\n",
       "dtype: object"
      ]
     },
     "execution_count": 42,
     "metadata": {},
     "output_type": "execute_result"
    }
   ],
   "source": [
    "df.dtypes"
   ]
  },
  {
   "cell_type": "code",
   "execution_count": 23,
   "metadata": {},
   "outputs": [
    {
     "data": {
      "text/plain": [
       "296"
      ]
     },
     "execution_count": 23,
     "metadata": {},
     "output_type": "execute_result"
    }
   ],
   "source": [
    "df.nunique()[0]"
   ]
  },
  {
   "cell_type": "code",
   "execution_count": 12,
   "metadata": {},
   "outputs": [
    {
     "data": {
      "text/plain": [
       "array(['Location 3', 'Location 6', 'Location 8', 'Location 26',\n",
       "       'Location 34', 'Location 25', 'Location 46', 'Location 156',\n",
       "       'Location 21', 'Location 13', 'Location 579', 'Location 602',\n",
       "       'Location 10', 'Location 44', 'Location 30', 'Location 48',\n",
       "       'Location 196', 'Location 64', 'Location 91', 'Location 62',\n",
       "       'Location 75', 'Location 42', 'Location 233', 'Location 95',\n",
       "       'Location 78', 'Location 61', 'Location 87', 'Location 19',\n",
       "       'Location 115', 'Location 350', 'Location 377', 'Location 17',\n",
       "       'Location 113', 'Location 81', 'Location 58', 'Location 212',\n",
       "       'Location 53', 'Location 337', 'Location 41', 'Location 632',\n",
       "       'Location 73', 'Location 214', 'Location 218', 'Location 38',\n",
       "       'Location 172', 'Location 197', 'Location 101', 'Location 185',\n",
       "       'Location 129', 'Location 235', 'Location 142', 'Location 50',\n",
       "       'Location 76', 'Location 11', 'Location 33', 'Location 22',\n",
       "       'Location 145', 'Location 203', 'Location 94', 'Location 573',\n",
       "       'Location 27', 'Location 186', 'Location 4', 'Location 70',\n",
       "       'Location 45', 'Location 262', 'Location 111', 'Location 84',\n",
       "       'Location 108', 'Location 7', 'Location 74', 'Location 450',\n",
       "       'Location 47', 'Location 37', 'Location 43', 'Location 286',\n",
       "       'Location 89', 'Location 24', 'Location 97', 'Location 144',\n",
       "       'Location 40', 'Location 128', 'Location 169', 'Location 399',\n",
       "       'Location 23', 'Location 191', 'Location 178', 'Location 510',\n",
       "       'Location 600', 'Location 188', 'Location 67', 'Location 49',\n",
       "       'Location 29', 'Location 222', 'Location 386', 'Location 88',\n",
       "       'Location 104', 'Location 405', 'Location 114', 'Location 259',\n",
       "       'Location 182', 'Location 12', 'Location 228', 'Location 149',\n",
       "       'Location 90', 'Location 109', 'Location 441', 'Location 421',\n",
       "       'Location 641', 'Location 195', 'Location 20', 'Location 161',\n",
       "       'Location 117', 'Location 200', 'Location 106', 'Location 31',\n",
       "       'Location 122', 'Location 541', 'Location 495', 'Location 193',\n",
       "       'Location 39', 'Location 9', 'Location 86', 'Location 107',\n",
       "       'Location 198', 'Location 318', 'Location 135', 'Location 177',\n",
       "       'Location 32', 'Location 591', 'Location 488', 'Location 418',\n",
       "       'Location 587', 'Location 454', 'Location 543', 'Location 489',\n",
       "       'Location 60', 'Location 52', 'Location 548', 'Location 15',\n",
       "       'Location 240', 'Location 658', 'Location 209', 'Location 151',\n",
       "       'Location 192', 'Location 364', 'Location 18', 'Location 503',\n",
       "       'Location 482', 'Location 460', 'Location 71', 'Location 69',\n",
       "       'Location 258', 'Location 204', 'Location 124', 'Location 168',\n",
       "       'Location 35', 'Location 296', 'Location 136', 'Location 28',\n",
       "       'Location 153', 'Location 99', 'Location 132', 'Location 427',\n",
       "       'Location 118', 'Location 127', 'Location 159', 'Location 154',\n",
       "       'Location 175', 'Location 120', 'Location 82', 'Location 152',\n",
       "       'Location 56', 'Location 282', 'Location 566', 'Location 365',\n",
       "       'Location 353', 'Location 66', 'Location 2', 'Location 323',\n",
       "       'Location 473', 'Location 206', 'Location 57', 'Location 68',\n",
       "       'Location 166', 'Location 1', 'Location 227', 'Location 79',\n",
       "       'Location 642', 'Location 105', 'Location 644', 'Location 547',\n",
       "       'Location 637', 'Location 59', 'Location 574', 'Location 529',\n",
       "       'Location 554', 'Location 275', 'Location 589', 'Location 160',\n",
       "       'Location 410', 'Location 146', 'Location 221', 'Location 265',\n",
       "       'Location 569', 'Location 157', 'Location 648', 'Location 165',\n",
       "       'Location 651', 'Location 266', 'Location 77', 'Location 158',\n",
       "       'Location 336', 'Location 72', 'Location 463', 'Location 253',\n",
       "       'Location 5', 'Location 431', 'Location 515', 'Location 226',\n",
       "       'Location 140', 'Location 110', 'Location 202', 'Location 634',\n",
       "       'Location 138', 'Location 217', 'Location 443', 'Location 627',\n",
       "       'Location 123', 'Location 528', 'Location 357', 'Location 187',\n",
       "       'Location 315', 'Location 112', 'Location 302', 'Location 194',\n",
       "       'Location 332', 'Location 208', 'Location 179', 'Location 199',\n",
       "       'Location 201', 'Location 174', 'Location 474', 'Location 184',\n",
       "       'Location 63', 'Location 512', 'Location 403', 'Location 436',\n",
       "       'Location 210', 'Location 468', 'Location 464', 'Location 98',\n",
       "       'Location 102', 'Location 325', 'Location 267', 'Location 173',\n",
       "       'Location 617', 'Location 141', 'Location 300', 'Location 216',\n",
       "       'Location 506', 'Location 647', 'Location 402', 'Location 239',\n",
       "       'Location 54', 'Location 137', 'Location 477', 'Location 586',\n",
       "       'Location 472', 'Location 374', 'Location 458', 'Location 180',\n",
       "       'Location 653', 'Location 16', 'Location 612', 'Location 505',\n",
       "       'Location 631', 'Location 299', 'Location 65', 'Location 342',\n",
       "       'Location 155', 'Location 511', 'Location 461', 'Location 244',\n",
       "       'Location 207', 'Location 597', 'Location 352', 'Location 533',\n",
       "       'Location 384', 'Location 80', 'Location 171', 'Location 143',\n",
       "       'Location 576', 'Location 139', 'Location 125', 'Location 181'],\n",
       "      dtype=object)"
      ]
     },
     "execution_count": 12,
     "metadata": {},
     "output_type": "execute_result"
    }
   ],
   "source": [
    "df[\"Location\"].unique()"
   ]
  },
  {
   "cell_type": "code",
   "execution_count": 13,
   "metadata": {},
   "outputs": [
    {
     "data": {
      "text/plain": [
       "Product A    1234\n",
       "Product B    3435\n",
       "Product C    1200\n",
       "dtype: int64"
      ]
     },
     "execution_count": 13,
     "metadata": {},
     "output_type": "execute_result"
    }
   ],
   "source": [
    "data = pd.Series({\"Product A\":1234,\"Product B\":3435,\"Product C\":1200})\n",
    "data"
   ]
  },
  {
   "cell_type": "code",
   "execution_count": 17,
   "metadata": {},
   "outputs": [
    {
     "data": {
      "text/plain": [
       "array(['Product A', 'Product B', 'Product C'], dtype=object)"
      ]
     },
     "execution_count": 17,
     "metadata": {},
     "output_type": "execute_result"
    }
   ],
   "source": [
    "data.index.to_numpy()"
   ]
  },
  {
   "cell_type": "code",
   "execution_count": 22,
   "metadata": {},
   "outputs": [
    {
     "data": {
      "text/plain": [
       "numpy.ndarray"
      ]
     },
     "execution_count": 22,
     "metadata": {},
     "output_type": "execute_result"
    }
   ],
   "source": [
    "type(data.to_numpy())"
   ]
  },
  {
   "cell_type": "code",
   "execution_count": 44,
   "metadata": {},
   "outputs": [
    {
     "data": {
      "text/plain": [
       "0    1\n",
       "1    2\n",
       "2    3\n",
       "3    4\n",
       "dtype: int64"
      ]
     },
     "execution_count": 44,
     "metadata": {},
     "output_type": "execute_result"
    }
   ],
   "source": [
    "d4 = pd.Series([1,2,3,4])\n",
    "d4"
   ]
  },
  {
   "cell_type": "code",
   "execution_count": 30,
   "metadata": {},
   "outputs": [
    {
     "data": {
      "text/plain": [
       "0    {'a': 2}\n",
       "1    {'b': 2}\n",
       "dtype: object"
      ]
     },
     "execution_count": 30,
     "metadata": {},
     "output_type": "execute_result"
    }
   ],
   "source": [
    "d2 = pd.Series([{'a':2},{'b':2}])\n",
    "d2"
   ]
  },
  {
   "cell_type": "code",
   "execution_count": 31,
   "metadata": {},
   "outputs": [
    {
     "data": {
      "text/html": [
       "<div>\n",
       "<style scoped>\n",
       "    .dataframe tbody tr th:only-of-type {\n",
       "        vertical-align: middle;\n",
       "    }\n",
       "\n",
       "    .dataframe tbody tr th {\n",
       "        vertical-align: top;\n",
       "    }\n",
       "\n",
       "    .dataframe thead th {\n",
       "        text-align: right;\n",
       "    }\n",
       "</style>\n",
       "<table border=\"1\" class=\"dataframe\">\n",
       "  <thead>\n",
       "    <tr style=\"text-align: right;\">\n",
       "      <th></th>\n",
       "      <th>0</th>\n",
       "    </tr>\n",
       "  </thead>\n",
       "  <tbody>\n",
       "    <tr>\n",
       "      <th>0</th>\n",
       "      <td>{'a': 2}</td>\n",
       "    </tr>\n",
       "    <tr>\n",
       "      <th>1</th>\n",
       "      <td>{'b': 2}</td>\n",
       "    </tr>\n",
       "  </tbody>\n",
       "</table>\n",
       "</div>"
      ],
      "text/plain": [
       "          0\n",
       "0  {'a': 2}\n",
       "1  {'b': 2}"
      ]
     },
     "execution_count": 31,
     "metadata": {},
     "output_type": "execute_result"
    }
   ],
   "source": [
    "d3 = pd.DataFrame(d2)\n",
    "d3"
   ]
  },
  {
   "cell_type": "code",
   "execution_count": 45,
   "metadata": {},
   "outputs": [
    {
     "data": {
      "text/html": [
       "<div>\n",
       "<style scoped>\n",
       "    .dataframe tbody tr th:only-of-type {\n",
       "        vertical-align: middle;\n",
       "    }\n",
       "\n",
       "    .dataframe tbody tr th {\n",
       "        vertical-align: top;\n",
       "    }\n",
       "\n",
       "    .dataframe thead th {\n",
       "        text-align: right;\n",
       "    }\n",
       "</style>\n",
       "<table border=\"1\" class=\"dataframe\">\n",
       "  <thead>\n",
       "    <tr style=\"text-align: right;\">\n",
       "      <th></th>\n",
       "      <th>CountryName</th>\n",
       "      <th>Year</th>\n",
       "      <th>YearCode</th>\n",
       "      <th>GNIPerCapita,(current US$)</th>\n",
       "      <th>MerchandiseTrade (% of GDP)</th>\n",
       "      <th>LandArea(sq. km)</th>\n",
       "    </tr>\n",
       "  </thead>\n",
       "  <tbody>\n",
       "    <tr>\n",
       "      <th>0</th>\n",
       "      <td>Afghanistan</td>\n",
       "      <td>2004</td>\n",
       "      <td>YR2004</td>\n",
       "      <td>210</td>\n",
       "      <td>43.46178</td>\n",
       "      <td>652290.0</td>\n",
       "    </tr>\n",
       "    <tr>\n",
       "      <th>1</th>\n",
       "      <td>Afghanistan</td>\n",
       "      <td>2005</td>\n",
       "      <td>YR2005</td>\n",
       "      <td>240</td>\n",
       "      <td>41.84058</td>\n",
       "      <td>652290.0</td>\n",
       "    </tr>\n",
       "    <tr>\n",
       "      <th>2</th>\n",
       "      <td>Afghanistan</td>\n",
       "      <td>2006</td>\n",
       "      <td>YR2006</td>\n",
       "      <td>280</td>\n",
       "      <td>38.67088</td>\n",
       "      <td>652290.0</td>\n",
       "    </tr>\n",
       "    <tr>\n",
       "      <th>3</th>\n",
       "      <td>Afghanistan</td>\n",
       "      <td>2007</td>\n",
       "      <td>YR2007</td>\n",
       "      <td>310</td>\n",
       "      <td>34.10960</td>\n",
       "      <td>652290.0</td>\n",
       "    </tr>\n",
       "    <tr>\n",
       "      <th>4</th>\n",
       "      <td>Afghanistan</td>\n",
       "      <td>2008</td>\n",
       "      <td>YR2008</td>\n",
       "      <td>300</td>\n",
       "      <td>29.76439</td>\n",
       "      <td>652290.0</td>\n",
       "    </tr>\n",
       "    <tr>\n",
       "      <th>...</th>\n",
       "      <td>...</td>\n",
       "      <td>...</td>\n",
       "      <td>...</td>\n",
       "      <td>...</td>\n",
       "      <td>...</td>\n",
       "      <td>...</td>\n",
       "    </tr>\n",
       "    <tr>\n",
       "      <th>818</th>\n",
       "      <td>Zimbabwe</td>\n",
       "      <td>2006</td>\n",
       "      <td>YR2006</td>\n",
       "      <td>440</td>\n",
       "      <td>79.10754</td>\n",
       "      <td>386680.0</td>\n",
       "    </tr>\n",
       "    <tr>\n",
       "      <th>819</th>\n",
       "      <td>Zimbabwe</td>\n",
       "      <td>2007</td>\n",
       "      <td>YR2007</td>\n",
       "      <td>420</td>\n",
       "      <td>93.65830</td>\n",
       "      <td>386680.0</td>\n",
       "    </tr>\n",
       "    <tr>\n",
       "      <th>820</th>\n",
       "      <td>Zimbabwe</td>\n",
       "      <td>2008</td>\n",
       "      <td>YR2008</td>\n",
       "      <td>350</td>\n",
       "      <td>116.74920</td>\n",
       "      <td>386680.0</td>\n",
       "    </tr>\n",
       "    <tr>\n",
       "      <th>821</th>\n",
       "      <td>Zimbabwe</td>\n",
       "      <td>2009</td>\n",
       "      <td>YR2009</td>\n",
       "      <td>410</td>\n",
       "      <td>88.68595</td>\n",
       "      <td>386680.0</td>\n",
       "    </tr>\n",
       "    <tr>\n",
       "      <th>822</th>\n",
       "      <td>Zimbabwe</td>\n",
       "      <td>2010</td>\n",
       "      <td>YR2010</td>\n",
       "      <td>490</td>\n",
       "      <td>84.38971</td>\n",
       "      <td>386680.0</td>\n",
       "    </tr>\n",
       "  </tbody>\n",
       "</table>\n",
       "<p>823 rows × 6 columns</p>\n",
       "</div>"
      ],
      "text/plain": [
       "     CountryName  Year YearCode  GNIPerCapita,(current US$)  \\\n",
       "0    Afghanistan  2004   YR2004                         210   \n",
       "1    Afghanistan  2005   YR2005                         240   \n",
       "2    Afghanistan  2006   YR2006                         280   \n",
       "3    Afghanistan  2007   YR2007                         310   \n",
       "4    Afghanistan  2008   YR2008                         300   \n",
       "..           ...   ...      ...                         ...   \n",
       "818     Zimbabwe  2006   YR2006                         440   \n",
       "819     Zimbabwe  2007   YR2007                         420   \n",
       "820     Zimbabwe  2008   YR2008                         350   \n",
       "821     Zimbabwe  2009   YR2009                         410   \n",
       "822     Zimbabwe  2010   YR2010                         490   \n",
       "\n",
       "     MerchandiseTrade (% of GDP)  LandArea(sq. km)  \n",
       "0                       43.46178          652290.0  \n",
       "1                       41.84058          652290.0  \n",
       "2                       38.67088          652290.0  \n",
       "3                       34.10960          652290.0  \n",
       "4                       29.76439          652290.0  \n",
       "..                           ...               ...  \n",
       "818                     79.10754          386680.0  \n",
       "819                     93.65830          386680.0  \n",
       "820                    116.74920          386680.0  \n",
       "821                     88.68595          386680.0  \n",
       "822                     84.38971          386680.0  \n",
       "\n",
       "[823 rows x 6 columns]"
      ]
     },
     "execution_count": 45,
     "metadata": {},
     "output_type": "execute_result"
    }
   ],
   "source": [
    "d5 = pd.read_csv(\"365DSc-GNI-pd.csv\")\n",
    "d6 = d5.copy()\n",
    "d6"
   ]
  },
  {
   "cell_type": "code",
   "execution_count": 51,
   "metadata": {},
   "outputs": [
    {
     "data": {
      "text/plain": [
       "'Greece'"
      ]
     },
     "execution_count": 51,
     "metadata": {},
     "output_type": "execute_result"
    }
   ],
   "source": [
    "d6.loc[:,'CountryName'].iloc[264]"
   ]
  },
  {
   "cell_type": "code",
   "execution_count": 66,
   "metadata": {},
   "outputs": [
    {
     "data": {
      "text/plain": [
       "array(['Afghanistan', 'Algeria', 'Argentina', 'Belgium',\n",
       "       'Bosnia and Herzegovina', 'Brazil', 'Bulgaria', 'Burundi',\n",
       "       'Canada', 'Chile', 'China', 'Cuba', 'Cyprus', 'Czech Republic',\n",
       "       'Denmark', 'Ecuador', 'Egypt, Arab Rep.', 'Estonia', 'Ethiopia',\n",
       "       'Finland', 'France', 'Gambia, The', 'Germany', 'Ghana', 'Greece',\n",
       "       'Guatemala', 'Hungary', 'Iceland', 'India', 'Indonesia', 'Iraq',\n",
       "       'Israel', 'Italy', 'Jamaica', 'Japan', 'Kazakhstan', 'Kenya',\n",
       "       'Korea, Rep.', 'Kuwait', 'Latvia', 'Lebanon', 'Libya', 'Lithuania',\n",
       "       'Luxembourg', 'Madagascar', 'Malaysia', 'Maldives', 'Mali',\n",
       "       'Malta', 'Montenegro', 'Morocco', 'Mozambique', 'Nigeria',\n",
       "       'Norway', 'Pakistan', 'Qatar', 'Romania', 'Serbia', 'Singapore',\n",
       "       'Slovak Republic', 'South Africa', 'Spain', 'Sri Lanka', 'Sudan',\n",
       "       'Sweden', 'Switzerland', 'Tajikistan', 'Togo',\n",
       "       'Trinidad and Tobago', 'Uganda', 'Ukraine', 'United Arab Emirates',\n",
       "       'United Kingdom', 'United States', 'Uruguay', 'Uzbekistan',\n",
       "       'Vietnam', 'Zimbabwe'], dtype=object)"
      ]
     },
     "execution_count": 66,
     "metadata": {},
     "output_type": "execute_result"
    }
   ],
   "source": [
    "d6[\"CountryName\"].unique()"
   ]
  },
  {
   "cell_type": "code",
   "execution_count": 70,
   "metadata": {},
   "outputs": [
    {
     "data": {
      "text/plain": [
       "<bound method NDFrame._add_numeric_operations.<locals>.max of 0    b\n",
       "1    a\n",
       "2    z\n",
       "dtype: object>"
      ]
     },
     "execution_count": 70,
     "metadata": {},
     "output_type": "execute_result"
    }
   ],
   "source": [
    "(pd.Series([\"b\",\"a\",\"z\"])).max"
   ]
  }
 ],
 "metadata": {
  "kernelspec": {
   "display_name": "base",
   "language": "python",
   "name": "python3"
  },
  "language_info": {
   "codemirror_mode": {
    "name": "ipython",
    "version": 3
   },
   "file_extension": ".py",
   "mimetype": "text/x-python",
   "name": "python",
   "nbconvert_exporter": "python",
   "pygments_lexer": "ipython3",
   "version": "3.11.5"
  }
 },
 "nbformat": 4,
 "nbformat_minor": 2
}
